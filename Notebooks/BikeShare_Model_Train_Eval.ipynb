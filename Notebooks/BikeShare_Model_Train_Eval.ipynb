{
 "cells": [
  {
   "cell_type": "code",
   "execution_count": 1,
   "id": "88f7589d-4216-4743-a7bb-01cea56f0b55",
   "metadata": {},
   "outputs": [],
   "source": [
    "import pandas as pd\n",
    "import numpy as np\n",
    "import matplotlib.pyplot as plt\n",
    "from sklearn import preprocessing\n",
    "from sklearn.model_selection import train_test_split\n",
    "from sklearn.model_selection import GridSearchCV\n",
    "from sklearn.ensemble import RandomForestRegressor \n",
    "from sklearn.tree import DecisionTreeClassifier\n",
    "from sklearn.linear_model import LinearRegression\n",
    "from Regression_Model import Regression_Model\n",
    "from sklearn.metrics import mean_squared_error, mean_absolute_error, r2_score\n",
    "from Hyper_Reg_Tuning import hyper_tuner\n",
    "\n",
    "Bike_data=pd.read_csv('day.csv')\n",
    "Bike_data=Bike_data.drop(['dteday','casual','registered'],axis=1)"
   ]
  },
  {
   "cell_type": "markdown",
   "id": "a0e72159-68b2-4218-a91e-22d157a62620",
   "metadata": {},
   "source": [
    "<h2>Model Training and Evalaution</h2>"
   ]
  },
  {
   "cell_type": "markdown",
   "id": "da319837-a390-4921-8348-cd7144b0740a",
   "metadata": {},
   "source": [
    "Model will trained on the datset as it is to see initial results. We will fine tune afterwards with feature engineering and hyperparemeter tuning to try and achieve better results."
   ]
  },
  {
   "cell_type": "markdown",
   "id": "296c977d-1de9-4565-a928-f2ff8e964fcf",
   "metadata": {},
   "source": [
    "<h3> Model Training and Evaluation Pre-tuning</h3>"
   ]
  },
  {
   "cell_type": "code",
   "execution_count": null,
   "id": "046b4290-4772-46c4-9679-fcec3f37dceb",
   "metadata": {},
   "outputs": [],
   "source": [
    "# Let's split the dataset in training and test data\n",
    "X=Bike_data.drop('cnt',axis=1)\n",
    "Y=Bike_data['cnt']\n",
    "\n",
    "#splittiing dataset inn training,validation and test sets, 60% train, 20% validation, 20% test\n",
    "X_train, X_temp, Y_train, Y_temp = train_test_split(X, Y, test_size=0.4, random_state=42) # intiial split to get training data\n",
    "\n",
    "X_val, X_test, Y_val, Y_test = train_test_split(X_temp, Y_temp, test_size=0.5, random_state=42) # second split for validation and test sets\n"
   ]
  },
  {
   "cell_type": "markdown",
   "id": "7e611a7d-490e-443a-a9e1-8f4728250f5c",
   "metadata": {},
   "source": [
    "<h4>My Regression Model (Pre-tuning)</h4>"
   ]
  },
  {
   "cell_type": "code",
   "execution_count": 3,
   "id": "e2352727-aaf8-462d-a668-992eb7b5bdb2",
   "metadata": {},
   "outputs": [
    {
     "name": "stdout",
     "output_type": "stream",
     "text": [
      "The MSE validation error of the model is nan\n",
      "The RMSE validation error of the model is nan\n",
      "The MAE validation error of the model is nan\n",
      "The R2 value of the model on the validation set is nan\n",
      "\n",
      "The MSE error of the model is nan\n",
      "The RMSE error of the model is nan\n",
      "The MAE error of the model is nan\n",
      "The R2 value of the model is nan\n",
      "\n"
     ]
    },
    {
     "name": "stderr",
     "output_type": "stream",
     "text": [
      "C:\\Users\\arkev\\Bike_Share_Data_Analysis\\Regression_Model.py:44: RuntimeWarning: invalid value encountered in subtract\n",
      "  self.w -= a * gradient_w\n"
     ]
    }
   ],
   "source": [
    "#lets create our models\n",
    "X_t=np.array(X_train)\n",
    "Y_t=np.array(Y_train)\n",
    "\n",
    "val_x=np.array(X_val)\n",
    "val_y=np.array(Y_val)\n",
    "\n",
    "test_X=np.array(X_test)\n",
    "test_Y=np.array(Y_test)\n",
    "\n",
    "Regressor=Regression_Model()\n",
    "Regressor.fit(X_t,Y_t,0.005,200)\n",
    "\n",
    "\n",
    "Reg_MSE_val=Regressor.MSE(val_x,val_y)\n",
    "Reg_RMSE_val=Regressor.RMSE(val_x,val_y)\n",
    "Reg_MAE_val=Regressor.MAE(val_x,val_y)\n",
    "Reg_R_2_val=Regressor.R_2(val_x,val_y)\n",
    "\n",
    "print(f'The MSE validation error of the model is {Reg_MSE_val}')\n",
    "print(f'The RMSE validation error of the model is {Reg_RMSE_val}')\n",
    "print(f'The MAE validation error of the model is {Reg_MAE_val}')\n",
    "print(f'The R2 value of the model on the validation set is {Reg_R_2_val}\\n')\n",
    "\n",
    "\n",
    "Reg_MSE_Test=Regressor.MSE(test_X,test_Y)\n",
    "Reg_RMSE_Test=Regressor.RMSE(test_X,test_Y)\n",
    "Reg_MAE_Test=Regressor.MAE(test_X,test_Y)\n",
    "Reg_R_2_Test=Regressor.R_2(test_X,test_Y)\n",
    "\n",
    "print(f'The MSE error of the model is {Reg_MSE_Test}')\n",
    "print(f'The RMSE error of the model is {Reg_RMSE_Test}')\n",
    "print(f'The MAE error of the model is {Reg_MAE_Test}')\n",
    "print(f'The R2 value of the model is {Reg_R_2_Test}\\n')"
   ]
  },
  {
   "cell_type": "markdown",
   "id": "7de01de1-6f8d-4707-8276-c5cff63a6770",
   "metadata": {},
   "source": [
    "<h4> Scikit-Learn's Regression Model (Pre-tuning)</h4>"
   ]
  },
  {
   "cell_type": "code",
   "execution_count": 4,
   "id": "bd3175e8-ba9d-4a64-af10-6f400d9ef28f",
   "metadata": {},
   "outputs": [
    {
     "name": "stdout",
     "output_type": "stream",
     "text": [
      "The MSE validation error of the Linear Regression Model  is 846055.1705548647\n",
      "The RMSE validation error of the  Linear Regression Model  is 919.8125736012009\n",
      "The MAE validation error of the Linear Regression Model  is 619.5040667040788\n",
      "The R2 validation value of the  Linear Regression Model  is 0.7691078811570952\n",
      "\n",
      "The MSE test error of the Linear Regression Model  is 751818.4426870595\n",
      "The RMSE test error of the  Linear Regression Model  is 867.0746465484154\n",
      "The MAE test error of the Linear Regression Model  is 691.6909557107258\n",
      "The R2 test value of the  Linear Regression Model  is 0.8120323715326581\n",
      "\n"
     ]
    }
   ],
   "source": [
    "LR_Mod = LinearRegression()\n",
    "LR_Mod.fit(X_train, Y_train)\n",
    "\n",
    "LR_val_Pred=LR_Mod.predict(X_val)\n",
    "\n",
    "LR_Mod_MSE_val=mean_squared_error(Y_val,LR_val_Pred)\n",
    "LR_Mod_RMSE_val=np.sqrt(LR_Mod_MSE_val)\n",
    "LR_Mod_MAE_val=mean_absolute_error(Y_val,LR_val_Pred)\n",
    "LR_Mod_R_2_val=r2_score(Y_val,LR_val_Pred)\n",
    "\n",
    "print(f'The MSE validation error of the Linear Regression Model  is {LR_Mod_MSE_val}')\n",
    "print(f'The RMSE validation error of the  Linear Regression Model  is {LR_Mod_RMSE_val}')\n",
    "print(f'The MAE validation error of the Linear Regression Model  is {LR_Mod_MAE_val}')\n",
    "print(f'The R2 validation value of the  Linear Regression Model  is {LR_Mod_R_2_val}\\n')\n",
    "\n",
    "\n",
    "LR_test_Pred=LR_Mod.predict(X_test)\n",
    "\n",
    "LR_Mod_MSE_test=mean_squared_error(Y_test,LR_test_Pred)\n",
    "LR_Mod_RMSE_test=np.sqrt(LR_Mod_MSE_test)\n",
    "LR_Mod_MAE_test=mean_absolute_error(Y_test,LR_test_Pred)\n",
    "LR_Mod_R_2_test=r2_score(Y_test,LR_test_Pred)\n",
    "\n",
    "print(f'The MSE test error of the Linear Regression Model  is {LR_Mod_MSE_test}')\n",
    "print(f'The RMSE test error of the  Linear Regression Model  is {LR_Mod_RMSE_test}')\n",
    "print(f'The MAE test error of the Linear Regression Model  is {LR_Mod_MAE_test}')\n",
    "print(f'The R2 test value of the  Linear Regression Model  is {LR_Mod_R_2_test}\\n')\n",
    "\n"
   ]
  },
  {
   "cell_type": "markdown",
   "id": "1e1b5375-47f0-465c-a147-9bff1f856118",
   "metadata": {},
   "source": [
    "<h4>Scikit-Learn's Decision Tree Model (Pre-tuning)</h4>"
   ]
  },
  {
   "cell_type": "code",
   "execution_count": 5,
   "id": "6d02cfa7-27d6-4fe5-a83c-6c803f5d5129",
   "metadata": {},
   "outputs": [
    {
     "name": "stdout",
     "output_type": "stream",
     "text": [
      "The MSE validation error of the Decision Tree Model  is 1996916.7123287672\n",
      "The RMSE validation error of the  Decision Tree Model  is 1413.1230350994804\n",
      "The MAE validation error of the Decision Tree Model  is 980.4109589041096\n",
      "The R2 validation value of the  Decision Tree Model   is 0.4550327840204399\n",
      "\n",
      "The MSE test error of the Decision Tree Model  is 2452179.870748299\n",
      "The RMSE test error of the  Decision Tree Model  is 1565.943763596988\n",
      "The MAE test error of the Decision Tree Model  is 1129.421768707483\n",
      "The R2 test value of the Decision Tree Model  is 0.3869125726252357\n",
      "\n"
     ]
    }
   ],
   "source": [
    "tree = DecisionTreeClassifier()\n",
    "tree.fit(X_train,Y_train)\n",
    "\n",
    "tree_val_Pred=tree.predict(X_val)\n",
    "\n",
    "tree_MSE_val=mean_squared_error(Y_val,tree_val_Pred)\n",
    "tree_RMSE_val=np.sqrt(tree_MSE_val)\n",
    "tree_MAE_val=mean_absolute_error(Y_val,tree_val_Pred)\n",
    "tree_R_2_val=r2_score(Y_val,tree_val_Pred)\n",
    "\n",
    "print(f'The MSE validation error of the Decision Tree Model  is {tree_MSE_val}')\n",
    "print(f'The RMSE validation error of the  Decision Tree Model  is {tree_RMSE_val}')\n",
    "print(f'The MAE validation error of the Decision Tree Model  is {tree_MAE_val}')\n",
    "print(f'The R2 validation value of the  Decision Tree Model   is {tree_R_2_val}\\n')\n",
    "\n",
    "tree_test_Pred=tree.predict(X_test)\n",
    "\n",
    "tree_MSE_test=mean_squared_error(Y_test,tree_test_Pred)\n",
    "tree_RMSE_test=np.sqrt(tree_MSE_test)\n",
    "tree_MAE_test=mean_absolute_error(Y_test,tree_test_Pred)\n",
    "tree_R_2_test=r2_score(Y_test,tree_test_Pred)\n",
    "\n",
    "print(f'The MSE test error of the Decision Tree Model  is {tree_MSE_test}')\n",
    "print(f'The RMSE test error of the  Decision Tree Model  is {tree_RMSE_test}')\n",
    "print(f'The MAE test error of the Decision Tree Model  is {tree_MAE_test}')\n",
    "print(f'The R2 test value of the Decision Tree Model  is {tree_R_2_test}\\n')\n",
    "\n",
    "\n"
   ]
  },
  {
   "cell_type": "markdown",
   "id": "f7b9da55-b4cf-491d-9965-d9c31e580780",
   "metadata": {},
   "source": [
    "<h4> Scikit-Learn's Random Forest Model (Pre-tuning) </h4>"
   ]
  },
  {
   "cell_type": "code",
   "execution_count": 6,
   "id": "5e559a76-ff21-4f77-9032-80afa8fb2c23",
   "metadata": {},
   "outputs": [
    {
     "name": "stdout",
     "output_type": "stream",
     "text": [
      "The MSE validation error of the Random Forest Model  is 494217.5405130137\n",
      "The RMSE validation error of the  Random Forest Model  is 703.0060743073375\n",
      "The MAE validation error of the Random Forest Model is 454.25801369863024\n",
      "The R2 validation value of the  Random Forest Model   is 0.8651258935944544\n",
      "\n",
      "The MSE test error of the Random Forest Model  is 420488.20978163264\n",
      "The RMSE test error of the  Random Forest Model  is 648.4506224699246\n",
      "The MAE test error of the Random Forest Model is 473.6185714285714\n",
      "The R2 test value of the  Random Forest Model   is 0.8948706667681058\n"
     ]
    }
   ],
   "source": [
    "Random_Tree=RandomForestRegressor(n_estimators=100, random_state=42)\n",
    "Random_Tree.fit(X_train,Y_train)\n",
    "\n",
    "Random_Tree_val_Pred=Random_Tree.predict(X_val)\n",
    "\n",
    "Random_Tree_MSE_val=mean_squared_error(Y_val,Random_Tree_val_Pred)\n",
    "Random_Tree_RMSE_val=np.sqrt(Random_Tree_MSE_val)\n",
    "Random_Tree_MAE_val=mean_absolute_error(Y_val,Random_Tree_val_Pred)\n",
    "Random_Tree_R_2_val=r2_score(Y_val,Random_Tree_val_Pred)\n",
    "\n",
    "print(f'The MSE validation error of the Random Forest Model  is {Random_Tree_MSE_val}')\n",
    "print(f'The RMSE validation error of the  Random Forest Model  is {Random_Tree_RMSE_val}')\n",
    "print(f'The MAE validation error of the Random Forest Model is {Random_Tree_MAE_val}')\n",
    "print(f'The R2 validation value of the  Random Forest Model   is {Random_Tree_R_2_val}\\n')\n",
    "\n",
    "\n",
    "Random_Tree_test_Pred=Random_Tree.predict(X_test)\n",
    "\n",
    "Random_Tree_MSE_test=mean_squared_error(Y_test,Random_Tree_test_Pred)\n",
    "Random_Tree_RMSE_test=np.sqrt(Random_Tree_MSE_test)\n",
    "Random_Tree_MAE_test=mean_absolute_error(Y_test,Random_Tree_test_Pred)\n",
    "Random_Tree_R_2_test=r2_score(Y_test,Random_Tree_test_Pred)\n",
    "\n",
    "print(f'The MSE test error of the Random Forest Model  is {Random_Tree_MSE_test}')\n",
    "print(f'The RMSE test error of the  Random Forest Model  is {Random_Tree_RMSE_test}')\n",
    "print(f'The MAE test error of the Random Forest Model is {Random_Tree_MAE_test}')\n",
    "print(f'The R2 test value of the  Random Forest Model   is {Random_Tree_R_2_test}')"
   ]
  },
  {
   "cell_type": "markdown",
   "id": "4cb928d4-7c7e-4389-a3b0-e385932ea57c",
   "metadata": {},
   "source": [
    "As we can see, my model with its current hyperameter has abysmmal performance scores,the score for the decision tree is also bad but far better than my model with the remaining models having remarkably good scores in comparison. I'm going to do some fine-tuning on my model to produce a better result."
   ]
  },
  {
   "cell_type": "markdown",
   "id": "4c947a67-2647-4917-a3bf-614510bbea59",
   "metadata": {},
   "source": [
    "<h3> Model Training and Evalaution with Tuning </h3>"
   ]
  },
  {
   "cell_type": "markdown",
   "id": "d6ba6332-a5e4-4ea5-8269-1c37af55f71b",
   "metadata": {},
   "source": [
    "<h4> My Regression Model (Tuned)</h4>"
   ]
  },
  {
   "cell_type": "code",
   "execution_count": 128,
   "id": "dab60ec2-4e87-4bb1-827e-ff79b2953026",
   "metadata": {},
   "outputs": [],
   "source": [
    "X_t=np.array(X_train)\n",
    "Y_t=np.array(Y_train)\n",
    "\n",
    "val_x=np.array(X_val)\n",
    "val_y=np.array(Y_val)\n",
    "\n",
    "test_X=np.array(X_test)\n",
    "test_Y=np.array(Y_test)\n",
    "\n",
    "Regressor=Regression_Model()\n",
    "\n",
    "Reg_values=hyper_tuner(Regressor, X_t, Y_t, val_x, val_y, 150, 0.0000008, 0.0000090, 0.00000001)"
   ]
  },
  {
   "cell_type": "code",
   "execution_count": 129,
   "id": "fff2474c-98e2-49b3-b053-6f54fc323744",
   "metadata": {},
   "outputs": [
    {
     "name": "stdout",
     "output_type": "stream",
     "text": [
      "The best learning rate for my model is 8.990000000000007e-06\n",
      "The MSE validation error of the model is 3382526.7044915045\n",
      "The RMSE validation error of the model is 1839.164675740458\n",
      "The MAE validation error of the model is 1475.8260987353935\n",
      "The R2 value of the model on the validation set is 0.07689381848402088\n",
      "\n",
      "The MSE test error of the model is 3219069.89048837\n",
      "The RMSE test error of the model is 1794.1766608916664\n",
      "The MAE test error of the model is 1470.2981694802093\n",
      "The R2 test value of the model is 0.16112611224916895\n",
      "\n"
     ]
    }
   ],
   "source": [
    "print(f'The best learning rate for my model is {Reg_values[0] }')\n",
    "print(f'The MSE validation error of the model is {Reg_values[1] }')\n",
    "print(f'The RMSE validation error of the model is {Reg_values[2] }')\n",
    "print(f'The MAE validation error of the model is {Reg_values[3] }')\n",
    "print(f'The R2 value of the model on the validation set is {Reg_values[4]}\\n') \n",
    "\n",
    "Reg_MSE_Test=Regressor.MSE(test_X,test_Y)\n",
    "Reg_RMSE_Test=Regressor.RMSE(test_X,test_Y)\n",
    "Reg_MAE_Test=Regressor.MAE(test_X,test_Y)\n",
    "Reg_R_2_Test=Regressor.R_2(test_X,test_Y)\n",
    "\n",
    "print(f'The MSE test error of the model is {Reg_MSE_Test}')\n",
    "print(f'The RMSE test error of the model is {Reg_RMSE_Test}')\n",
    "print(f'The MAE test error of the model is {Reg_MAE_Test}')\n",
    "print(f'The R2 test value of the model is {Reg_R_2_Test}\\n')"
   ]
  },
  {
   "cell_type": "markdown",
   "id": "b9ced4fb-21a3-4620-a1d4-ca27f58e7c77",
   "metadata": {},
   "source": [
    "Due to no considerable improvements after several rounds with different learning rates, the model has shown no significant improvement. This implies the model as it is not effiecient to capture the patterns in the data with gradient descent alone."
   ]
  },
  {
   "cell_type": "code",
   "execution_count": 130,
   "id": "0a5ecee9-faef-4e52-bd4e-7d0395a1b1c1",
   "metadata": {},
   "outputs": [
    {
     "name": "stdout",
     "output_type": "stream",
     "text": [
      "The weights for my model are \n",
      "[10.50882226  2.00294867 -0.17168418  2.93146474 -0.03993986  2.9728654\n",
      "  0.73996432  0.7709926   0.66618341  0.62399108  0.4980444   0.1422785 ]\n",
      "\n",
      "The bias parameter for my model is 0.856419926482478\n",
      "\n"
     ]
    }
   ],
   "source": [
    "#Lets compare weights and biases for my model and the sklearn model\n",
    "print(f\"The weights for my model are \\n{Regressor.w}\\n\")\n",
    "print(f\"The bias parameter for my model is {Regressor.b}\\n\")"
   ]
  },
  {
   "cell_type": "code",
   "execution_count": 131,
   "id": "0291c939-bf6b-40e1-89d2-5aa66aa60d39",
   "metadata": {},
   "outputs": [
    {
     "name": "stdout",
     "output_type": "stream",
     "text": [
      "The weights for the Linear Regression model are \n",
      "[-6.48425515e+00  4.96081271e+02  4.34509502e+03  1.59117130e+02\n",
      " -6.45359324e+02  5.71611113e+01  8.17458978e+01 -6.40139332e+02\n",
      " -2.42155440e+03  8.89677223e+03 -1.06674816e+03 -1.80811764e+03]\n",
      "\n",
      "The bias parameter for the Linear Regression model  is 1091.043406653433\n",
      "\n"
     ]
    }
   ],
   "source": [
    "print(f\"The weights for the Linear Regression model are \\n{LR_Mod.coef_}\\n\")\n",
    "print(f\"The bias parameter for the Linear Regression model  is {LR_Mod.intercept_}\\n\")"
   ]
  },
  {
   "cell_type": "markdown",
   "id": "494cde03-b9cb-497b-8f30-e3789663b83b",
   "metadata": {},
   "source": [
    "My model was not able to obtain an optimal solution, while Scikit-learn's model was. My model uses gradient descent to find a solution, which is an iterative process. On the other hand, the sklearn model uses a closed-form soultion witht the normal equation to find an exact answer to the problem."
   ]
  },
  {
   "cell_type": "markdown",
   "id": "f4c39eec-d78f-46bd-b369-044eb78d58d4",
   "metadata": {},
   "source": [
    "<h3>Feature Importance</h3>"
   ]
  },
  {
   "cell_type": "markdown",
   "id": "c2beb0b7-ae73-4101-b5ec-74142154ad62",
   "metadata": {},
   "source": [
    "The RandomForest model will be used to gather the most important features to predict total rental count of bikes for future analysis."
   ]
  },
  {
   "cell_type": "code",
   "execution_count": 11,
   "id": "b664cbbf-bd7e-424b-851a-bf23a5cdd731",
   "metadata": {},
   "outputs": [
    {
     "data": {
      "text/html": [
       "<style>#sk-container-id-1 {\n",
       "  /* Definition of color scheme common for light and dark mode */\n",
       "  --sklearn-color-text: #000;\n",
       "  --sklearn-color-text-muted: #666;\n",
       "  --sklearn-color-line: gray;\n",
       "  /* Definition of color scheme for unfitted estimators */\n",
       "  --sklearn-color-unfitted-level-0: #fff5e6;\n",
       "  --sklearn-color-unfitted-level-1: #f6e4d2;\n",
       "  --sklearn-color-unfitted-level-2: #ffe0b3;\n",
       "  --sklearn-color-unfitted-level-3: chocolate;\n",
       "  /* Definition of color scheme for fitted estimators */\n",
       "  --sklearn-color-fitted-level-0: #f0f8ff;\n",
       "  --sklearn-color-fitted-level-1: #d4ebff;\n",
       "  --sklearn-color-fitted-level-2: #b3dbfd;\n",
       "  --sklearn-color-fitted-level-3: cornflowerblue;\n",
       "\n",
       "  /* Specific color for light theme */\n",
       "  --sklearn-color-text-on-default-background: var(--sg-text-color, var(--theme-code-foreground, var(--jp-content-font-color1, black)));\n",
       "  --sklearn-color-background: var(--sg-background-color, var(--theme-background, var(--jp-layout-color0, white)));\n",
       "  --sklearn-color-border-box: var(--sg-text-color, var(--theme-code-foreground, var(--jp-content-font-color1, black)));\n",
       "  --sklearn-color-icon: #696969;\n",
       "\n",
       "  @media (prefers-color-scheme: dark) {\n",
       "    /* Redefinition of color scheme for dark theme */\n",
       "    --sklearn-color-text-on-default-background: var(--sg-text-color, var(--theme-code-foreground, var(--jp-content-font-color1, white)));\n",
       "    --sklearn-color-background: var(--sg-background-color, var(--theme-background, var(--jp-layout-color0, #111)));\n",
       "    --sklearn-color-border-box: var(--sg-text-color, var(--theme-code-foreground, var(--jp-content-font-color1, white)));\n",
       "    --sklearn-color-icon: #878787;\n",
       "  }\n",
       "}\n",
       "\n",
       "#sk-container-id-1 {\n",
       "  color: var(--sklearn-color-text);\n",
       "}\n",
       "\n",
       "#sk-container-id-1 pre {\n",
       "  padding: 0;\n",
       "}\n",
       "\n",
       "#sk-container-id-1 input.sk-hidden--visually {\n",
       "  border: 0;\n",
       "  clip: rect(1px 1px 1px 1px);\n",
       "  clip: rect(1px, 1px, 1px, 1px);\n",
       "  height: 1px;\n",
       "  margin: -1px;\n",
       "  overflow: hidden;\n",
       "  padding: 0;\n",
       "  position: absolute;\n",
       "  width: 1px;\n",
       "}\n",
       "\n",
       "#sk-container-id-1 div.sk-dashed-wrapped {\n",
       "  border: 1px dashed var(--sklearn-color-line);\n",
       "  margin: 0 0.4em 0.5em 0.4em;\n",
       "  box-sizing: border-box;\n",
       "  padding-bottom: 0.4em;\n",
       "  background-color: var(--sklearn-color-background);\n",
       "}\n",
       "\n",
       "#sk-container-id-1 div.sk-container {\n",
       "  /* jupyter's `normalize.less` sets `[hidden] { display: none; }`\n",
       "     but bootstrap.min.css set `[hidden] { display: none !important; }`\n",
       "     so we also need the `!important` here to be able to override the\n",
       "     default hidden behavior on the sphinx rendered scikit-learn.org.\n",
       "     See: https://github.com/scikit-learn/scikit-learn/issues/21755 */\n",
       "  display: inline-block !important;\n",
       "  position: relative;\n",
       "}\n",
       "\n",
       "#sk-container-id-1 div.sk-text-repr-fallback {\n",
       "  display: none;\n",
       "}\n",
       "\n",
       "div.sk-parallel-item,\n",
       "div.sk-serial,\n",
       "div.sk-item {\n",
       "  /* draw centered vertical line to link estimators */\n",
       "  background-image: linear-gradient(var(--sklearn-color-text-on-default-background), var(--sklearn-color-text-on-default-background));\n",
       "  background-size: 2px 100%;\n",
       "  background-repeat: no-repeat;\n",
       "  background-position: center center;\n",
       "}\n",
       "\n",
       "/* Parallel-specific style estimator block */\n",
       "\n",
       "#sk-container-id-1 div.sk-parallel-item::after {\n",
       "  content: \"\";\n",
       "  width: 100%;\n",
       "  border-bottom: 2px solid var(--sklearn-color-text-on-default-background);\n",
       "  flex-grow: 1;\n",
       "}\n",
       "\n",
       "#sk-container-id-1 div.sk-parallel {\n",
       "  display: flex;\n",
       "  align-items: stretch;\n",
       "  justify-content: center;\n",
       "  background-color: var(--sklearn-color-background);\n",
       "  position: relative;\n",
       "}\n",
       "\n",
       "#sk-container-id-1 div.sk-parallel-item {\n",
       "  display: flex;\n",
       "  flex-direction: column;\n",
       "}\n",
       "\n",
       "#sk-container-id-1 div.sk-parallel-item:first-child::after {\n",
       "  align-self: flex-end;\n",
       "  width: 50%;\n",
       "}\n",
       "\n",
       "#sk-container-id-1 div.sk-parallel-item:last-child::after {\n",
       "  align-self: flex-start;\n",
       "  width: 50%;\n",
       "}\n",
       "\n",
       "#sk-container-id-1 div.sk-parallel-item:only-child::after {\n",
       "  width: 0;\n",
       "}\n",
       "\n",
       "/* Serial-specific style estimator block */\n",
       "\n",
       "#sk-container-id-1 div.sk-serial {\n",
       "  display: flex;\n",
       "  flex-direction: column;\n",
       "  align-items: center;\n",
       "  background-color: var(--sklearn-color-background);\n",
       "  padding-right: 1em;\n",
       "  padding-left: 1em;\n",
       "}\n",
       "\n",
       "\n",
       "/* Toggleable style: style used for estimator/Pipeline/ColumnTransformer box that is\n",
       "clickable and can be expanded/collapsed.\n",
       "- Pipeline and ColumnTransformer use this feature and define the default style\n",
       "- Estimators will overwrite some part of the style using the `sk-estimator` class\n",
       "*/\n",
       "\n",
       "/* Pipeline and ColumnTransformer style (default) */\n",
       "\n",
       "#sk-container-id-1 div.sk-toggleable {\n",
       "  /* Default theme specific background. It is overwritten whether we have a\n",
       "  specific estimator or a Pipeline/ColumnTransformer */\n",
       "  background-color: var(--sklearn-color-background);\n",
       "}\n",
       "\n",
       "/* Toggleable label */\n",
       "#sk-container-id-1 label.sk-toggleable__label {\n",
       "  cursor: pointer;\n",
       "  display: flex;\n",
       "  width: 100%;\n",
       "  margin-bottom: 0;\n",
       "  padding: 0.5em;\n",
       "  box-sizing: border-box;\n",
       "  text-align: center;\n",
       "  align-items: start;\n",
       "  justify-content: space-between;\n",
       "  gap: 0.5em;\n",
       "}\n",
       "\n",
       "#sk-container-id-1 label.sk-toggleable__label .caption {\n",
       "  font-size: 0.6rem;\n",
       "  font-weight: lighter;\n",
       "  color: var(--sklearn-color-text-muted);\n",
       "}\n",
       "\n",
       "#sk-container-id-1 label.sk-toggleable__label-arrow:before {\n",
       "  /* Arrow on the left of the label */\n",
       "  content: \"▸\";\n",
       "  float: left;\n",
       "  margin-right: 0.25em;\n",
       "  color: var(--sklearn-color-icon);\n",
       "}\n",
       "\n",
       "#sk-container-id-1 label.sk-toggleable__label-arrow:hover:before {\n",
       "  color: var(--sklearn-color-text);\n",
       "}\n",
       "\n",
       "/* Toggleable content - dropdown */\n",
       "\n",
       "#sk-container-id-1 div.sk-toggleable__content {\n",
       "  max-height: 0;\n",
       "  max-width: 0;\n",
       "  overflow: hidden;\n",
       "  text-align: left;\n",
       "  /* unfitted */\n",
       "  background-color: var(--sklearn-color-unfitted-level-0);\n",
       "}\n",
       "\n",
       "#sk-container-id-1 div.sk-toggleable__content.fitted {\n",
       "  /* fitted */\n",
       "  background-color: var(--sklearn-color-fitted-level-0);\n",
       "}\n",
       "\n",
       "#sk-container-id-1 div.sk-toggleable__content pre {\n",
       "  margin: 0.2em;\n",
       "  border-radius: 0.25em;\n",
       "  color: var(--sklearn-color-text);\n",
       "  /* unfitted */\n",
       "  background-color: var(--sklearn-color-unfitted-level-0);\n",
       "}\n",
       "\n",
       "#sk-container-id-1 div.sk-toggleable__content.fitted pre {\n",
       "  /* unfitted */\n",
       "  background-color: var(--sklearn-color-fitted-level-0);\n",
       "}\n",
       "\n",
       "#sk-container-id-1 input.sk-toggleable__control:checked~div.sk-toggleable__content {\n",
       "  /* Expand drop-down */\n",
       "  max-height: 200px;\n",
       "  max-width: 100%;\n",
       "  overflow: auto;\n",
       "}\n",
       "\n",
       "#sk-container-id-1 input.sk-toggleable__control:checked~label.sk-toggleable__label-arrow:before {\n",
       "  content: \"▾\";\n",
       "}\n",
       "\n",
       "/* Pipeline/ColumnTransformer-specific style */\n",
       "\n",
       "#sk-container-id-1 div.sk-label input.sk-toggleable__control:checked~label.sk-toggleable__label {\n",
       "  color: var(--sklearn-color-text);\n",
       "  background-color: var(--sklearn-color-unfitted-level-2);\n",
       "}\n",
       "\n",
       "#sk-container-id-1 div.sk-label.fitted input.sk-toggleable__control:checked~label.sk-toggleable__label {\n",
       "  background-color: var(--sklearn-color-fitted-level-2);\n",
       "}\n",
       "\n",
       "/* Estimator-specific style */\n",
       "\n",
       "/* Colorize estimator box */\n",
       "#sk-container-id-1 div.sk-estimator input.sk-toggleable__control:checked~label.sk-toggleable__label {\n",
       "  /* unfitted */\n",
       "  background-color: var(--sklearn-color-unfitted-level-2);\n",
       "}\n",
       "\n",
       "#sk-container-id-1 div.sk-estimator.fitted input.sk-toggleable__control:checked~label.sk-toggleable__label {\n",
       "  /* fitted */\n",
       "  background-color: var(--sklearn-color-fitted-level-2);\n",
       "}\n",
       "\n",
       "#sk-container-id-1 div.sk-label label.sk-toggleable__label,\n",
       "#sk-container-id-1 div.sk-label label {\n",
       "  /* The background is the default theme color */\n",
       "  color: var(--sklearn-color-text-on-default-background);\n",
       "}\n",
       "\n",
       "/* On hover, darken the color of the background */\n",
       "#sk-container-id-1 div.sk-label:hover label.sk-toggleable__label {\n",
       "  color: var(--sklearn-color-text);\n",
       "  background-color: var(--sklearn-color-unfitted-level-2);\n",
       "}\n",
       "\n",
       "/* Label box, darken color on hover, fitted */\n",
       "#sk-container-id-1 div.sk-label.fitted:hover label.sk-toggleable__label.fitted {\n",
       "  color: var(--sklearn-color-text);\n",
       "  background-color: var(--sklearn-color-fitted-level-2);\n",
       "}\n",
       "\n",
       "/* Estimator label */\n",
       "\n",
       "#sk-container-id-1 div.sk-label label {\n",
       "  font-family: monospace;\n",
       "  font-weight: bold;\n",
       "  display: inline-block;\n",
       "  line-height: 1.2em;\n",
       "}\n",
       "\n",
       "#sk-container-id-1 div.sk-label-container {\n",
       "  text-align: center;\n",
       "}\n",
       "\n",
       "/* Estimator-specific */\n",
       "#sk-container-id-1 div.sk-estimator {\n",
       "  font-family: monospace;\n",
       "  border: 1px dotted var(--sklearn-color-border-box);\n",
       "  border-radius: 0.25em;\n",
       "  box-sizing: border-box;\n",
       "  margin-bottom: 0.5em;\n",
       "  /* unfitted */\n",
       "  background-color: var(--sklearn-color-unfitted-level-0);\n",
       "}\n",
       "\n",
       "#sk-container-id-1 div.sk-estimator.fitted {\n",
       "  /* fitted */\n",
       "  background-color: var(--sklearn-color-fitted-level-0);\n",
       "}\n",
       "\n",
       "/* on hover */\n",
       "#sk-container-id-1 div.sk-estimator:hover {\n",
       "  /* unfitted */\n",
       "  background-color: var(--sklearn-color-unfitted-level-2);\n",
       "}\n",
       "\n",
       "#sk-container-id-1 div.sk-estimator.fitted:hover {\n",
       "  /* fitted */\n",
       "  background-color: var(--sklearn-color-fitted-level-2);\n",
       "}\n",
       "\n",
       "/* Specification for estimator info (e.g. \"i\" and \"?\") */\n",
       "\n",
       "/* Common style for \"i\" and \"?\" */\n",
       "\n",
       ".sk-estimator-doc-link,\n",
       "a:link.sk-estimator-doc-link,\n",
       "a:visited.sk-estimator-doc-link {\n",
       "  float: right;\n",
       "  font-size: smaller;\n",
       "  line-height: 1em;\n",
       "  font-family: monospace;\n",
       "  background-color: var(--sklearn-color-background);\n",
       "  border-radius: 1em;\n",
       "  height: 1em;\n",
       "  width: 1em;\n",
       "  text-decoration: none !important;\n",
       "  margin-left: 0.5em;\n",
       "  text-align: center;\n",
       "  /* unfitted */\n",
       "  border: var(--sklearn-color-unfitted-level-1) 1pt solid;\n",
       "  color: var(--sklearn-color-unfitted-level-1);\n",
       "}\n",
       "\n",
       ".sk-estimator-doc-link.fitted,\n",
       "a:link.sk-estimator-doc-link.fitted,\n",
       "a:visited.sk-estimator-doc-link.fitted {\n",
       "  /* fitted */\n",
       "  border: var(--sklearn-color-fitted-level-1) 1pt solid;\n",
       "  color: var(--sklearn-color-fitted-level-1);\n",
       "}\n",
       "\n",
       "/* On hover */\n",
       "div.sk-estimator:hover .sk-estimator-doc-link:hover,\n",
       ".sk-estimator-doc-link:hover,\n",
       "div.sk-label-container:hover .sk-estimator-doc-link:hover,\n",
       ".sk-estimator-doc-link:hover {\n",
       "  /* unfitted */\n",
       "  background-color: var(--sklearn-color-unfitted-level-3);\n",
       "  color: var(--sklearn-color-background);\n",
       "  text-decoration: none;\n",
       "}\n",
       "\n",
       "div.sk-estimator.fitted:hover .sk-estimator-doc-link.fitted:hover,\n",
       ".sk-estimator-doc-link.fitted:hover,\n",
       "div.sk-label-container:hover .sk-estimator-doc-link.fitted:hover,\n",
       ".sk-estimator-doc-link.fitted:hover {\n",
       "  /* fitted */\n",
       "  background-color: var(--sklearn-color-fitted-level-3);\n",
       "  color: var(--sklearn-color-background);\n",
       "  text-decoration: none;\n",
       "}\n",
       "\n",
       "/* Span, style for the box shown on hovering the info icon */\n",
       ".sk-estimator-doc-link span {\n",
       "  display: none;\n",
       "  z-index: 9999;\n",
       "  position: relative;\n",
       "  font-weight: normal;\n",
       "  right: .2ex;\n",
       "  padding: .5ex;\n",
       "  margin: .5ex;\n",
       "  width: min-content;\n",
       "  min-width: 20ex;\n",
       "  max-width: 50ex;\n",
       "  color: var(--sklearn-color-text);\n",
       "  box-shadow: 2pt 2pt 4pt #999;\n",
       "  /* unfitted */\n",
       "  background: var(--sklearn-color-unfitted-level-0);\n",
       "  border: .5pt solid var(--sklearn-color-unfitted-level-3);\n",
       "}\n",
       "\n",
       ".sk-estimator-doc-link.fitted span {\n",
       "  /* fitted */\n",
       "  background: var(--sklearn-color-fitted-level-0);\n",
       "  border: var(--sklearn-color-fitted-level-3);\n",
       "}\n",
       "\n",
       ".sk-estimator-doc-link:hover span {\n",
       "  display: block;\n",
       "}\n",
       "\n",
       "/* \"?\"-specific style due to the `<a>` HTML tag */\n",
       "\n",
       "#sk-container-id-1 a.estimator_doc_link {\n",
       "  float: right;\n",
       "  font-size: 1rem;\n",
       "  line-height: 1em;\n",
       "  font-family: monospace;\n",
       "  background-color: var(--sklearn-color-background);\n",
       "  border-radius: 1rem;\n",
       "  height: 1rem;\n",
       "  width: 1rem;\n",
       "  text-decoration: none;\n",
       "  /* unfitted */\n",
       "  color: var(--sklearn-color-unfitted-level-1);\n",
       "  border: var(--sklearn-color-unfitted-level-1) 1pt solid;\n",
       "}\n",
       "\n",
       "#sk-container-id-1 a.estimator_doc_link.fitted {\n",
       "  /* fitted */\n",
       "  border: var(--sklearn-color-fitted-level-1) 1pt solid;\n",
       "  color: var(--sklearn-color-fitted-level-1);\n",
       "}\n",
       "\n",
       "/* On hover */\n",
       "#sk-container-id-1 a.estimator_doc_link:hover {\n",
       "  /* unfitted */\n",
       "  background-color: var(--sklearn-color-unfitted-level-3);\n",
       "  color: var(--sklearn-color-background);\n",
       "  text-decoration: none;\n",
       "}\n",
       "\n",
       "#sk-container-id-1 a.estimator_doc_link.fitted:hover {\n",
       "  /* fitted */\n",
       "  background-color: var(--sklearn-color-fitted-level-3);\n",
       "}\n",
       "</style><div id=\"sk-container-id-1\" class=\"sk-top-container\"><div class=\"sk-text-repr-fallback\"><pre>GridSearchCV(cv=5, estimator=RandomForestRegressor(random_state=42),\n",
       "             param_grid={&#x27;max_depth&#x27;: [None, 10, 20, 30],\n",
       "                         &#x27;max_features&#x27;: [&#x27;sqrt&#x27;, 0.5, 0.8],\n",
       "                         &#x27;min_samples_split&#x27;: [2, 5, 10],\n",
       "                         &#x27;n_estimators&#x27;: [100, 200, 300]})</pre><b>In a Jupyter environment, please rerun this cell to show the HTML representation or trust the notebook. <br />On GitHub, the HTML representation is unable to render, please try loading this page with nbviewer.org.</b></div><div class=\"sk-container\" hidden><div class=\"sk-item sk-dashed-wrapped\"><div class=\"sk-label-container\"><div class=\"sk-label fitted sk-toggleable\"><input class=\"sk-toggleable__control sk-hidden--visually\" id=\"sk-estimator-id-1\" type=\"checkbox\" ><label for=\"sk-estimator-id-1\" class=\"sk-toggleable__label fitted sk-toggleable__label-arrow\"><div><div>GridSearchCV</div></div><div><a class=\"sk-estimator-doc-link fitted\" rel=\"noreferrer\" target=\"_blank\" href=\"https://scikit-learn.org/1.6/modules/generated/sklearn.model_selection.GridSearchCV.html\">?<span>Documentation for GridSearchCV</span></a><span class=\"sk-estimator-doc-link fitted\">i<span>Fitted</span></span></div></label><div class=\"sk-toggleable__content fitted\"><pre>GridSearchCV(cv=5, estimator=RandomForestRegressor(random_state=42),\n",
       "             param_grid={&#x27;max_depth&#x27;: [None, 10, 20, 30],\n",
       "                         &#x27;max_features&#x27;: [&#x27;sqrt&#x27;, 0.5, 0.8],\n",
       "                         &#x27;min_samples_split&#x27;: [2, 5, 10],\n",
       "                         &#x27;n_estimators&#x27;: [100, 200, 300]})</pre></div> </div></div><div class=\"sk-parallel\"><div class=\"sk-parallel-item\"><div class=\"sk-item\"><div class=\"sk-label-container\"><div class=\"sk-label fitted sk-toggleable\"><input class=\"sk-toggleable__control sk-hidden--visually\" id=\"sk-estimator-id-2\" type=\"checkbox\" ><label for=\"sk-estimator-id-2\" class=\"sk-toggleable__label fitted sk-toggleable__label-arrow\"><div><div>best_estimator_: RandomForestRegressor</div></div></label><div class=\"sk-toggleable__content fitted\"><pre>RandomForestRegressor(max_depth=20, max_features=&#x27;sqrt&#x27;, random_state=42)</pre></div> </div></div><div class=\"sk-serial\"><div class=\"sk-item\"><div class=\"sk-estimator fitted sk-toggleable\"><input class=\"sk-toggleable__control sk-hidden--visually\" id=\"sk-estimator-id-3\" type=\"checkbox\" ><label for=\"sk-estimator-id-3\" class=\"sk-toggleable__label fitted sk-toggleable__label-arrow\"><div><div>RandomForestRegressor</div></div><div><a class=\"sk-estimator-doc-link fitted\" rel=\"noreferrer\" target=\"_blank\" href=\"https://scikit-learn.org/1.6/modules/generated/sklearn.ensemble.RandomForestRegressor.html\">?<span>Documentation for RandomForestRegressor</span></a></div></label><div class=\"sk-toggleable__content fitted\"><pre>RandomForestRegressor(max_depth=20, max_features=&#x27;sqrt&#x27;, random_state=42)</pre></div> </div></div></div></div></div></div></div></div></div>"
      ],
      "text/plain": [
       "GridSearchCV(cv=5, estimator=RandomForestRegressor(random_state=42),\n",
       "             param_grid={'max_depth': [None, 10, 20, 30],\n",
       "                         'max_features': ['sqrt', 0.5, 0.8],\n",
       "                         'min_samples_split': [2, 5, 10],\n",
       "                         'n_estimators': [100, 200, 300]})"
      ]
     },
     "execution_count": 11,
     "metadata": {},
     "output_type": "execute_result"
    }
   ],
   "source": [
    "# Let's tune hyperparameters to get best results\n",
    "\n",
    "# 60% training set and 40% test set\n",
    "X_train, X_test, Y_train, Y_test = train_test_split(X, Y, test_size=0.4, random_state=42)\n",
    "\n",
    "Random_Tree=RandomForestRegressor(random_state=42)\n",
    "\n",
    "param_grid = {\n",
    "    'n_estimators': [100, 200, 300],\n",
    "    'max_depth': [None, 10, 20, 30],\n",
    "    'min_samples_split': [2, 5, 10],\n",
    "    'max_features': ['sqrt', 0.5, 0.8]\n",
    "}\n",
    "\n",
    "grid_search = GridSearchCV(estimator=Random_Tree,param_grid=param_grid,cv=5)\n",
    "grid_search.fit(X_train, Y_train)\n",
    "\n"
   ]
  },
  {
   "cell_type": "code",
   "execution_count": 12,
   "id": "ef3e10fe-b482-45e4-ad5a-a93cbf95f2de",
   "metadata": {},
   "outputs": [
    {
     "name": "stdout",
     "output_type": "stream",
     "text": [
      "The MSE test error of the Random Forest Model  is 470293.2090307167\n",
      "The RMSE test error of the  Random Forest Model  is 685.7792713626716\n",
      "The MAE test error of the Random Forest Model is 470.39699658703074\n",
      "The R2 test value of the  Random Forest Model   is 0.8774438871898619\n",
      "\n"
     ]
    }
   ],
   "source": [
    "\n",
    "Random_Tree_test_Pred=grid_search.predict(X_test)\n",
    "\n",
    "Random_Tree_MSE_test=mean_squared_error(Y_test,Random_Tree_test_Pred)\n",
    "Random_Tree_RMSE_test=np.sqrt(Random_Tree_MSE_test)\n",
    "Random_Tree_MAE_test=mean_absolute_error(Y_test,Random_Tree_test_Pred)\n",
    "Random_Tree_R_2_test=r2_score(Y_test,Random_Tree_test_Pred)\n",
    "\n",
    "print(f'The MSE test error of the Random Forest Model  is {Random_Tree_MSE_test}')\n",
    "print(f'The RMSE test error of the  Random Forest Model  is {Random_Tree_RMSE_test}')\n",
    "print(f'The MAE test error of the Random Forest Model is {Random_Tree_MAE_test}')\n",
    "print(f'The R2 test value of the  Random Forest Model   is {Random_Tree_R_2_test}\\n')\n"
   ]
  },
  {
   "cell_type": "code",
   "execution_count": 13,
   "id": "26c15ff3-19b1-4095-bbf2-57d240a883a1",
   "metadata": {},
   "outputs": [
    {
     "data": {
      "image/png": "[encoded data removed]",
      "text/plain": [
       "<Figure size 1000x900 with 1 Axes>"
      ]
     },
     "metadata": {},
     "output_type": "display_data"
    }
   ],
   "source": [
    "best_estimator = grid_search.best_estimator_\n",
    "\n",
    "importances = best_estimator.feature_importances_\n",
    "plt.figure(figsize=(10, 9)) \n",
    "plt.bar(X.columns, importances, color=\"red\")\n",
    "plt.xticks(rotation=45)  \n",
    "plt.tight_layout()  "
   ]
  },
  {
   "cell_type": "markdown",
   "id": "7756f289-88f1-4400-bc5a-9d9413c120d3",
   "metadata": {},
   "source": [
    "Based on the graph, the most important features for determining total bike rental count (cnt) are the day and what the consumer assumes is the correct temperature. This makes sense , in that we have already determined that their is an underlying daily trend due to rental count fluctuating with the seasons throughout the year."
   ]
  },
  {
   "cell_type": "markdown",
   "id": "a8d5ea05-05ae-46d0-a609-7b6f3b1cf130",
   "metadata": {},
   "source": [
    "<h3> Saving the Models</h3>"
   ]
  },
  {
   "cell_type": "code",
   "execution_count": 132,
   "id": "30c11614-08a1-4e1c-ac1f-91f93de56288",
   "metadata": {},
   "outputs": [
    {
     "data": {
      "text/plain": [
       "['Forest_Regressor.joblib']"
      ]
     },
     "execution_count": 132,
     "metadata": {},
     "output_type": "execute_result"
    }
   ],
   "source": [
    "from joblib import dump,load\n",
    "\n",
    "# lets save th model\n",
    "dump(best_estimator,'Forest_Regressor.joblib')\n"
   ]
  },
  {
   "cell_type": "code",
   "execution_count": 134,
   "id": "3a873931-e1ac-4310-960c-a0fb529b9b51",
   "metadata": {},
   "outputs": [
    {
     "data": {
      "text/plain": [
       "['My_Model.joblib']"
      ]
     },
     "execution_count": 134,
     "metadata": {},
     "output_type": "execute_result"
    }
   ],
   "source": [
    "dump(Regressor,'My_Model.joblib')"
   ]
  },
  {
   "cell_type": "code",
   "execution_count": null,
   "id": "9d97a9b7-b253-4e61-8b59-c449c4f22b7b",
   "metadata": {},
   "outputs": [],
   "source": []
  }
 ],
 "metadata": {
  "kernelspec": {
   "display_name": "Python 3 (ipykernel)",
   "language": "python",
   "name": "python3"
  },
  "language_info": {
   "codemirror_mode": {
    "name": "ipython",
    "version": 3
   },
   "file_extension": ".py",
   "mimetype": "text/x-python",
   "name": "python",
   "nbconvert_exporter": "python",
   "pygments_lexer": "ipython3",
   "version": "3.12.3"
  }
 },
 "nbformat": 4,
 "nbformat_minor": 5
}
